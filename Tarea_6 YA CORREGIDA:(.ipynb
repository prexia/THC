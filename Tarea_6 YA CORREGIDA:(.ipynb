{
  "nbformat": 4,
  "nbformat_minor": 0,
  "metadata": {
    "colab": {
      "provenance": [],
      "authorship_tag": "ABX9TyNx3Uy7i/mVb9h9cZBDHS+B",
      "include_colab_link": true
    },
    "kernelspec": {
      "name": "python3",
      "display_name": "Python 3"
    },
    "language_info": {
      "name": "python"
    }
  },
  "cells": [
    {
      "cell_type": "markdown",
      "metadata": {
        "id": "view-in-github",
        "colab_type": "text"
      },
      "source": [
        "<a href=\"https://colab.research.google.com/github/prexia/THC/blob/desarollo/Tarea_6%20YA%20CORREGIDA%3A(.ipynb\" target=\"_parent\"><img src=\"https://colab.research.google.com/assets/colab-badge.svg\" alt=\"Open In Colab\"/></a>"
      ]
    },
    {
      "cell_type": "markdown",
      "source": [
        "Bravo Moreno Santiago Tarea 6"
      ],
      "metadata": {
        "id": "amEkElpthymv"
      }
    },
    {
      "cell_type": "code",
      "source": [
        "#Producto punto (Producto de Vectores)\n",
        "def producto_punto(A,B):#Definimos una función\n",
        "  if len(A)==len(B):# Hacemos un if then else\n",
        "      n=len(A)\n",
        "      C=n*[1.1]\n",
        "      D=0\n",
        "      for i in range (n):\n",
        "        C[i]=A[i]*B[i]\n",
        "        D=C[i]+D\n",
        "      print(D)\n",
        "  else:\n",
        "    print(NO)\n",
        "producto_punto(A=[7,12,9,14,2],B=[1,16,3,5,4])#Le asignamos valores a la función\n"
      ],
      "metadata": {
        "colab": {
          "base_uri": "https://localhost:8080/"
        },
        "id": "iOa3Iztoh5OI",
        "outputId": "ac969a90-d39c-4fb1-c243-d4ca95a8102b"
      },
      "execution_count": 1,
      "outputs": [
        {
          "output_type": "stream",
          "name": "stdout",
          "text": [
            "304\n"
          ]
        }
      ]
    },
    {
      "cell_type": "code",
      "source": [
        "#Producto por Escalar\n",
        "def producto_escalar(n,A):#Definimos una función\n",
        "  c=len(A) #Sea c= la cantidad e valores de A\n",
        "  B=c*[1.1]\n",
        "  for i in range(c): #Hacemos un for\n",
        "    B[i]=n*A[i]\n",
        "    print(B)\n",
        "producto_escalar(6,A=[3,7,5,2,11]) #Asignamos valores a la función tal que n= al escalar y A= al vector."
      ],
      "metadata": {
        "colab": {
          "base_uri": "https://localhost:8080/"
        },
        "id": "j0SqedWBiJLk",
        "outputId": "5621d092-5d27-498f-cbc4-8e7b138caf34"
      },
      "execution_count": null,
      "outputs": [
        {
          "output_type": "stream",
          "name": "stdout",
          "text": [
            "[18, 1.1, 1.1, 1.1, 1.1]\n",
            "[18, 42, 1.1, 1.1, 1.1]\n",
            "[18, 42, 30, 1.1, 1.1]\n",
            "[18, 42, 30, 12, 1.1]\n",
            "[18, 42, 30, 12, 66]\n"
          ]
        }
      ]
    },
    {
      "cell_type": "code",
      "source": [
        "#Potencia de un vector\n",
        "def potencia_de_un_vector(A):\n",
        "  c=len(A) #Sea c= la cantidad e valores de A\n",
        "  B=c*[1.1]\n",
        "  C=0\n",
        "  for i in range(c): #Hacemos un for\n",
        "    B[i]=A[i]*A[i]*A[i]\n",
        "    C=B[i]+C\n",
        "    print(C)\n",
        "potencia_de_un_vector(A=[2,2])"
      ],
      "metadata": {
        "colab": {
          "base_uri": "https://localhost:8080/"
        },
        "id": "eeCFLwBIXBTu",
        "outputId": "81d25d96-1101-4f81-9d02-0dcf9c01570d"
      },
      "execution_count": 7,
      "outputs": [
        {
          "output_type": "stream",
          "name": "stdout",
          "text": [
            "8\n",
            "16\n"
          ]
        }
      ]
    },
    {
      "cell_type": "code",
      "source": [],
      "metadata": {
        "id": "zTKfibiSVS6I"
      },
      "execution_count": null,
      "outputs": []
    }
  ]
}