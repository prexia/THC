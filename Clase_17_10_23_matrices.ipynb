{
  "nbformat": 4,
  "nbformat_minor": 0,
  "metadata": {
    "colab": {
      "provenance": [],
      "authorship_tag": "ABX9TyNkbmSX11A5qf1LOvgGHSFc",
      "include_colab_link": true
    },
    "kernelspec": {
      "name": "python3",
      "display_name": "Python 3"
    },
    "language_info": {
      "name": "python"
    }
  },
  "cells": [
    {
      "cell_type": "markdown",
      "metadata": {
        "id": "view-in-github",
        "colab_type": "text"
      },
      "source": [
        "<a href=\"https://colab.research.google.com/github/prexia/THC/blob/desarollo/Clase_17_10_23_matrices.ipynb\" target=\"_parent\"><img src=\"https://colab.research.google.com/assets/colab-badge.svg\" alt=\"Open In Colab\"/></a>"
      ]
    },
    {
      "cell_type": "code",
      "execution_count": null,
      "metadata": {
        "id": "HUTzxTWxw8Ik"
      },
      "outputs": [],
      "source": []
    },
    {
      "cell_type": "markdown",
      "source": [
        "Bravo Moreno Santiago"
      ],
      "metadata": {
        "id": "ce7r0tlLcIPu"
      }
    },
    {
      "cell_type": "code",
      "source": [
        "import math\n",
        "#Import math library\n",
        "#Biblioteca . funciones\n",
        "print(math.ceil(1.4)) #Biblioteca.ceil (Redondea el valor asigando)\n",
        "print(math.ceil(3.3))\n",
        "print(math.ceil(7.2))\n",
        "print(math.ceil(9.9))"
      ],
      "metadata": {
        "colab": {
          "base_uri": "https://localhost:8080/"
        },
        "id": "pUkrPoXPxAlU",
        "outputId": "d8dc64e5-6277-4431-d692-d758a9c501f3"
      },
      "execution_count": null,
      "outputs": [
        {
          "output_type": "stream",
          "name": "stdout",
          "text": [
            "2\n",
            "4\n",
            "8\n",
            "10\n"
          ]
        }
      ]
    },
    {
      "cell_type": "code",
      "source": [
        "import math\n",
        "#Asignar valores\n",
        "n= 7\n",
        "k= 5\n",
        "\n",
        "print(math.comb(n,k)) #Todas las combinaciones de 5 y 7 . Biblioteca.comb(Todas las combinaciones de los valores)"
      ],
      "metadata": {
        "colab": {
          "base_uri": "https://localhost:8080/"
        },
        "id": "FifOypYbxAwO",
        "outputId": "b19b8760-f16e-4f34-ea12-b088bb1e297c"
      },
      "execution_count": null,
      "outputs": [
        {
          "output_type": "stream",
          "name": "stdout",
          "text": [
            "21\n"
          ]
        }
      ]
    },
    {
      "cell_type": "code",
      "source": [
        "#Import math library\n",
        "import math\n",
        "p= [3,3]\n",
        "q= [ 6,12]\n",
        "#Imprimir la distancia #Biblioteca. dist (Te dice la distancias)\n",
        "print(math.dist(p,q))"
      ],
      "metadata": {
        "colab": {
          "base_uri": "https://localhost:8080/"
        },
        "id": "IgATTwySx8bM",
        "outputId": "c37bc4e6-57cd-4011-9ddb-1b87eea9b8ed"
      },
      "execution_count": null,
      "outputs": [
        {
          "output_type": "stream",
          "name": "stdout",
          "text": [
            "9.486832980505138\n"
          ]
        }
      ]
    },
    {
      "cell_type": "code",
      "source": [
        "import math\n",
        "print(math.isinf(32)) #Biblioteca.isinf ( Te dice si es infinito o no)\n",
        "print(math.isinf(122))\n",
        "print(math.isinf(300))"
      ],
      "metadata": {
        "colab": {
          "base_uri": "https://localhost:8080/"
        },
        "id": "JljbU4FzyX2-",
        "outputId": "2319b2a7-18fe-4fe4-bbfc-6597e36494b7"
      },
      "execution_count": null,
      "outputs": [
        {
          "output_type": "stream",
          "name": "stdout",
          "text": [
            "False\n",
            "False\n",
            "False\n"
          ]
        }
      ]
    },
    {
      "cell_type": "code",
      "source": [
        "# Importar Biblioteca random\n",
        "import random\n",
        "random.seed(10) #.seed es como la base para fijar la semilla\n",
        "print(random.random())"
      ],
      "metadata": {
        "colab": {
          "base_uri": "https://localhost:8080/"
        },
        "id": "2RXGo0GJzOFM",
        "outputId": "22ac50b5-9d74-4117-b5bd-4a78f643ce58"
      },
      "execution_count": null,
      "outputs": [
        {
          "output_type": "stream",
          "name": "stdout",
          "text": [
            "0.5714025946899135\n"
          ]
        }
      ]
    },
    {
      "cell_type": "code",
      "source": [
        "#Importar Biblioteca random\n",
        "import random\n",
        "\n",
        "print(random.randint(3,9)) #Random.Radint( da un numero aleatorio entre los valores)"
      ],
      "metadata": {
        "colab": {
          "base_uri": "https://localhost:8080/"
        },
        "id": "D_FEn85C0WZj",
        "outputId": "8b68c3c1-7fbb-44f9-ad56-62e57f3bb8db"
      },
      "execution_count": null,
      "outputs": [
        {
          "output_type": "stream",
          "name": "stdout",
          "text": [
            "6\n"
          ]
        }
      ]
    },
    {
      "cell_type": "code",
      "source": [
        "import random\n",
        "\n",
        "mylist = [\"apple\", \"banana\", \"cherry\"]\n",
        "print(random.choice(mylist)) #Random.choice (Elige un elemento random de la lista)"
      ],
      "metadata": {
        "colab": {
          "base_uri": "https://localhost:8080/"
        },
        "id": "nAsY7Ezw04uY",
        "outputId": "f24329fd-912a-483b-96db-cf7b6ec45188"
      },
      "execution_count": null,
      "outputs": [
        {
          "output_type": "stream",
          "name": "stdout",
          "text": [
            "cherry\n"
          ]
        }
      ]
    },
    {
      "cell_type": "code",
      "source": [
        "x=\"hola\"#Para separar\n",
        "A=[[1,2,3],[4,5,6],[7,8,9]] #Matriz (Listas de listas, cada minicorchete es un renglon de la matriz)\n",
        "#Columnas vertical, renglones horizontal 3x3\n",
        "B=[[10,11,12],[13,14,15],[16,17,18]]\n",
        "print(A[0][0])#Empieza desde O #El primer valor es de los renglones y el segundo de las columnas\n",
        "print(A[2][1])\n",
        "print(B[1][1])\n",
        "\n",
        "for i in range(len(A)):#Para imprimir renglones R1\n",
        "  print(A[0][i])\n",
        "print(x)\n",
        "for i in range(len(A)):#Para imprimir renglones R2\n",
        "  print(A[1][i])\n",
        "print(x)\n",
        "for i in range(len(A)):#Para imprimir renglones R3\n",
        "  print(A[2][i])\n",
        "print(x)\n",
        "for i in range(len(A)):#Para imprimir columnas C1\n",
        "  print(A[i][0])\n",
        "print(x)\n",
        "for i in range(len(A)):#Para imprimir columnas C2\n",
        "  print(A[i][1])\n",
        "print(x)\n",
        "for i in range(len(A)): #Para imprimir la matriz completa por renglones\n",
        "  for j in range(len(A)):\n",
        "    print(A[i][j])\n",
        "print(x)\n",
        "for i in range(len(A)): #Para imprimir la matriz completa por columnas\n",
        "  for j in range(len(A)):\n",
        "    print(A[j][i])\n",
        "print(x)\n",
        "for i in range(len(A)): #Suma de matricez A+B\n",
        "  for j in range(len(B)):\n",
        "         print(A[i][j]+B[i][j])\n",
        "\n"
      ],
      "metadata": {
        "colab": {
          "base_uri": "https://localhost:8080/"
        },
        "id": "S1uFfAcL1WGN",
        "outputId": "c979368d-65e9-480b-df28-649091be0b6d"
      },
      "execution_count": null,
      "outputs": [
        {
          "output_type": "stream",
          "name": "stdout",
          "text": [
            "1\n",
            "8\n",
            "14\n",
            "1\n",
            "2\n",
            "3\n",
            "hola\n",
            "4\n",
            "5\n",
            "6\n",
            "hola\n",
            "7\n",
            "8\n",
            "9\n",
            "hola\n",
            "1\n",
            "4\n",
            "7\n",
            "hola\n",
            "2\n",
            "5\n",
            "8\n",
            "hola\n",
            "1\n",
            "2\n",
            "3\n",
            "4\n",
            "5\n",
            "6\n",
            "7\n",
            "8\n",
            "9\n",
            "hola\n",
            "1\n",
            "4\n",
            "7\n",
            "2\n",
            "5\n",
            "8\n",
            "3\n",
            "6\n",
            "9\n",
            "hola\n",
            "11\n",
            "13\n",
            "15\n",
            "17\n",
            "19\n",
            "21\n",
            "23\n",
            "25\n",
            "27\n"
          ]
        }
      ]
    },
    {
      "cell_type": "code",
      "source": [
        "A=[5,4,3,2,1]\n",
        "n= len(A)\n",
        "for i in range(n-1):\n",
        "  if A[i]> A[i+1]:\n",
        "    print(A)\n",
        "    aux= A[i+1]\n",
        "    A[i+1]=A[i]\n",
        "    A[i]=aux\n",
        "    print(A)\n"
      ],
      "metadata": {
        "colab": {
          "base_uri": "https://localhost:8080/"
        },
        "id": "VQz8v7maAjvW",
        "outputId": "36d16bb3-e7f7-4ece-d955-0ef8dff0caf3"
      },
      "execution_count": null,
      "outputs": [
        {
          "output_type": "stream",
          "name": "stdout",
          "text": [
            "[5, 4, 3, 2, 1]\n",
            "[4, 5, 3, 2, 1]\n",
            "[4, 5, 3, 2, 1]\n",
            "[4, 3, 5, 2, 1]\n",
            "[4, 3, 5, 2, 1]\n",
            "[4, 3, 2, 5, 1]\n",
            "[4, 3, 2, 5, 1]\n",
            "[4, 3, 2, 1, 5]\n"
          ]
        }
      ]
    },
    {
      "cell_type": "markdown",
      "source": [
        "Multiplicar matrices"
      ],
      "metadata": {
        "id": "n2vx1Q60cMuM"
      }
    },
    {
      "cell_type": "code",
      "source": [
        "A=[[1,2,3],[4,5,6],[7,8,9]]\n",
        "B=[[10,11,12],[13,14,15],[16,17,18]]\n",
        "for i in range(len(A)):\n",
        "  for j in range(len(B)):\n",
        "         print(A[i][j]*B[i][j])"
      ],
      "metadata": {
        "colab": {
          "base_uri": "https://localhost:8080/"
        },
        "id": "56PvOs9vcRON",
        "outputId": "c4febdc8-2dc6-4392-806d-d5e7b111aea0"
      },
      "execution_count": 1,
      "outputs": [
        {
          "output_type": "stream",
          "name": "stdout",
          "text": [
            "10\n",
            "22\n",
            "36\n",
            "52\n",
            "70\n",
            "90\n",
            "112\n",
            "136\n",
            "162\n"
          ]
        }
      ]
    }
  ]
}