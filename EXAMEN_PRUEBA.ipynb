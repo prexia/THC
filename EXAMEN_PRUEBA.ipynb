{
  "nbformat": 4,
  "nbformat_minor": 0,
  "metadata": {
    "colab": {
      "provenance": [],
      "authorship_tag": "ABX9TyNtQyJ77XsaCdKMwgGvBq+T",
      "include_colab_link": true
    },
    "kernelspec": {
      "name": "python3",
      "display_name": "Python 3"
    },
    "language_info": {
      "name": "python"
    }
  },
  "cells": [
    {
      "cell_type": "markdown",
      "metadata": {
        "id": "view-in-github",
        "colab_type": "text"
      },
      "source": [
        "<a href=\"https://colab.research.google.com/github/prexia/THC/blob/desarollo/EXAMEN_PRUEBA.ipynb\" target=\"_parent\"><img src=\"https://colab.research.google.com/assets/colab-badge.svg\" alt=\"Open In Colab\"/></a>"
      ]
    },
    {
      "cell_type": "markdown",
      "source": [
        "Bravo Moreno Santiago, Luna Martinez Lizbeth"
      ],
      "metadata": {
        "id": "pRe4lvykfB5T"
      }
    },
    {
      "cell_type": "markdown",
      "source": [
        "Ejercicio 1"
      ],
      "metadata": {
        "id": "xfacgkfjfI5L"
      }
    },
    {
      "cell_type": "code",
      "source": [
        "import math\n",
        "A=[[1,2,3,4],[5,6,7,8]]\n",
        "B=[[7,8,9,10],[11,12,13,14]]\n",
        "for i in range(len(A)):\n",
        "  (len(A[0]))==len(B[0])\n",
        "  for j in range(len(A[0])):\n",
        "      print(A[i][j]+B[i][j])\n",
        ""
      ],
      "metadata": {
        "colab": {
          "base_uri": "https://localhost:8080/"
        },
        "id": "O9XNyg-vfKxV",
        "outputId": "c06801ce-1526-49f8-b7fd-de0323544aea"
      },
      "execution_count": 12,
      "outputs": [
        {
          "output_type": "stream",
          "name": "stdout",
          "text": [
            "8\n",
            "10\n",
            "12\n",
            "14\n",
            "16\n",
            "18\n",
            "20\n",
            "22\n"
          ]
        }
      ]
    },
    {
      "cell_type": "markdown",
      "source": [
        "Ejercicio 2"
      ],
      "metadata": {
        "id": "v1VBXZ4NjNIx"
      }
    },
    {
      "cell_type": "code",
      "source": [
        "import math\n",
        "A=[[1,2,3,4],[5,6,7,8]]\n",
        "B=[[7,8,9,10],[11,12,13,14]]\n",
        "for i in range(len(A)):\n",
        "  (len(A[0]))==len(B[0])\n",
        "  for j in range(len(A[0])):\n",
        "      print(A[i][j]*B[i][j])\n"
      ],
      "metadata": {
        "colab": {
          "base_uri": "https://localhost:8080/"
        },
        "id": "kF3Sh-kAjOiI",
        "outputId": "bc8f6123-63e4-466c-80b6-34ebdc456e58"
      },
      "execution_count": 14,
      "outputs": [
        {
          "output_type": "stream",
          "name": "stdout",
          "text": [
            "7\n",
            "16\n",
            "27\n",
            "40\n",
            "55\n",
            "72\n",
            "91\n",
            "112\n"
          ]
        }
      ]
    },
    {
      "cell_type": "markdown",
      "source": [
        "Ejercicio 3"
      ],
      "metadata": {
        "id": "uwQIatubj1Xj"
      }
    },
    {
      "cell_type": "code",
      "source": [
        "A=[[-3,5,9],[3,-5,-9],[-3,5,9]]\n",
        "Suma=0\n",
        "for i in range(len(A)):\n",
        "    Suma=Suma+A[i][i]\n",
        "print(Suma)"
      ],
      "metadata": {
        "colab": {
          "base_uri": "https://localhost:8080/"
        },
        "id": "MUNDEov7kVH6",
        "outputId": "a39ba954-880b-4dbc-8e85-b46fcdeaee09"
      },
      "execution_count": 23,
      "outputs": [
        {
          "output_type": "stream",
          "name": "stdout",
          "text": [
            "1\n"
          ]
        }
      ]
    },
    {
      "cell_type": "markdown",
      "source": [
        "Ejercicio 4"
      ],
      "metadata": {
        "id": "eRT__A7QmP82"
      }
    },
    {
      "cell_type": "code",
      "source": [
        "A=[[1,2,3],[4,5,6,],[7,8,9]]\n",
        "for i in range(len(A)):\n",
        "  for j in range(len(A)):\n",
        "    print(A[j][i])"
      ],
      "metadata": {
        "colab": {
          "base_uri": "https://localhost:8080/"
        },
        "id": "_slogGAcmRqF",
        "outputId": "ac23b4a2-8b13-42d1-81a7-9a2005756de6"
      },
      "execution_count": 25,
      "outputs": [
        {
          "output_type": "stream",
          "name": "stdout",
          "text": [
            "1\n",
            "4\n",
            "7\n",
            "2\n",
            "5\n",
            "8\n",
            "3\n",
            "6\n",
            "9\n"
          ]
        }
      ]
    },
    {
      "cell_type": "markdown",
      "source": [
        "Ejercicio 5"
      ],
      "metadata": {
        "id": "VYmfXC9xnJcZ"
      }
    },
    {
      "cell_type": "code",
      "source": [
        "def maxmin():\n",
        "    A=[[1,2,3],[4,5,6],[7,8,9]]\n",
        "\n",
        "    max = A[0][0]\n",
        "    min = A[0][0]\n",
        "\n",
        "    for i in range(len(A)):\n",
        "      for j in range(len(A[i])):\n",
        "        if [i][j] > max:\n",
        "            max = A[i][j]\n",
        "        if [i][j] < min:\n",
        "            min = A[i][j]\n",
        "    print(f\"es el minimo\"{min})\n",
        "    print(f\"es el maximo\"{max})\n",
        "    maxmin()"
      ],
      "metadata": {
        "colab": {
          "base_uri": "https://localhost:8080/",
          "height": 140
        },
        "id": "eDW65QoOnKiZ",
        "outputId": "9aa7fd98-0a77-456a-cb69-d62ad4860001"
      },
      "execution_count": 18,
      "outputs": [
        {
          "output_type": "error",
          "ename": "SyntaxError",
          "evalue": "ignored",
          "traceback": [
            "\u001b[0;36m  File \u001b[0;32m\"<ipython-input-18-52bb7c37fdc3>\"\u001b[0;36m, line \u001b[0;32m13\u001b[0m\n\u001b[0;31m    print(f\"es el minimo\"{min})\u001b[0m\n\u001b[0m          ^\u001b[0m\n\u001b[0;31mSyntaxError\u001b[0m\u001b[0;31m:\u001b[0m invalid syntax. Perhaps you forgot a comma?\n"
          ]
        }
      ]
    },
    {
      "cell_type": "code",
      "source": [
        "def maxmin():\n",
        "    A = [[1, 2, 3], [4, 5, 6], [7, 8, 9]]\n",
        "\n",
        "    max_value = A[0][0]\n",
        "    min_value = A[0][0]\n",
        "\n",
        "    for i in range(len(A)):\n",
        "        for j in range(len(A[i])):\n",
        "            if A[i][j] > max_value:\n",
        "                max_value = A[i][j]\n",
        "            if A[i][j] < min_value:\n",
        "                min_value = A[i][j]\n",
        "\n",
        "    print(f\"El máximo elemento de la matriz A es {max_value}\")\n",
        "    print(f\"El mínimo elemento de la matriz A es {min_value}\")\n",
        "\n",
        "maxmin()\n"
      ],
      "metadata": {
        "colab": {
          "base_uri": "https://localhost:8080/"
        },
        "id": "0jp0Vd1ko8pr",
        "outputId": "fbeedaec-27c5-4bbf-c697-b91a1096e75f"
      },
      "execution_count": 5,
      "outputs": [
        {
          "output_type": "stream",
          "name": "stdout",
          "text": [
            "El máximo elemento de la matriz A es 9\n",
            "El mínimo elemento de la matriz A es 1\n"
          ]
        }
      ]
    },
    {
      "cell_type": "markdown",
      "source": [
        "Ejercicio 6"
      ],
      "metadata": {
        "id": "UNC7xGgluGjH"
      }
    },
    {
      "cell_type": "code",
      "source": [
        "A=[[1,2,3],[4,5,6],[7,8,9]]\n",
        "suma=0\n",
        "\n",
        "for i in range(len(A)):\n",
        "  for j in range(len(A[i])):\n",
        "      C=(A[i][j] * A[i][j])\n",
        "      suma = suma + C\n",
        "\n",
        "\n",
        "print(suma)\n"
      ],
      "metadata": {
        "colab": {
          "base_uri": "https://localhost:8080/"
        },
        "id": "l-0kpTSduINL",
        "outputId": "95416fcd-7bb5-4672-97c0-33f6396cbdb5"
      },
      "execution_count": 8,
      "outputs": [
        {
          "output_type": "stream",
          "name": "stdout",
          "text": [
            "285\n"
          ]
        }
      ]
    },
    {
      "cell_type": "markdown",
      "source": [
        "Ejercicio 7"
      ],
      "metadata": {
        "id": "V0cZbLQap3U8"
      }
    },
    {
      "cell_type": "code",
      "source": [
        "A=[[1,2,3],[4,5,6],[7,8,9]]\n",
        "for i in range(len(A)):\n",
        "  for j in range(len(A)):\n",
        "    print(A[i][j]*A[i][j])"
      ],
      "metadata": {
        "colab": {
          "base_uri": "https://localhost:8080/"
        },
        "id": "VL3_QGCrp5wk",
        "outputId": "d372e553-4c97-42fb-d72f-a30d856ac3bd"
      },
      "execution_count": 14,
      "outputs": [
        {
          "output_type": "stream",
          "name": "stdout",
          "text": [
            "1\n",
            "4\n",
            "9\n",
            "16\n",
            "25\n",
            "36\n",
            "49\n",
            "64\n",
            "81\n"
          ]
        }
      ]
    }
  ]
}