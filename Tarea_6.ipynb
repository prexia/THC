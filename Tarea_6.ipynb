{
  "nbformat": 4,
  "nbformat_minor": 0,
  "metadata": {
    "colab": {
      "provenance": [],
      "authorship_tag": "ABX9TyNkVkDXctqj+sWDJOIMBZR2",
      "include_colab_link": true
    },
    "kernelspec": {
      "name": "python3",
      "display_name": "Python 3"
    },
    "language_info": {
      "name": "python"
    }
  },
  "cells": [
    {
      "cell_type": "markdown",
      "metadata": {
        "id": "view-in-github",
        "colab_type": "text"
      },
      "source": [
        "<a href=\"https://colab.research.google.com/github/prexia/THC/blob/desarollo/Tarea_6.ipynb\" target=\"_parent\"><img src=\"https://colab.research.google.com/assets/colab-badge.svg\" alt=\"Open In Colab\"/></a>"
      ]
    },
    {
      "cell_type": "markdown",
      "source": [
        "Bravo Moreno Santiago Tarea 6"
      ],
      "metadata": {
        "id": "amEkElpthymv"
      }
    },
    {
      "cell_type": "code",
      "source": [
        "#Producto punto (Producto de Vectores)\n",
        "def producto_punto(A,B):#Definimos una función\n",
        "  if len(A)==len(B):# Hacemos un if then else\n",
        "      n=len(A)\n",
        "      C=n*[1.1]\n",
        "      for i in range (n):\n",
        "        C[i]=A[i]*B[i]\n",
        "      print(C)\n",
        "  else:\n",
        "    print(NO)\n",
        "producto_punto(A=[7,12,9,14,2],B=[1,16,3,5,4])#Le asignamos valores a la función\n"
      ],
      "metadata": {
        "colab": {
          "base_uri": "https://localhost:8080/"
        },
        "id": "iOa3Iztoh5OI",
        "outputId": "5488a07d-76b3-4f67-f724-5b6dcd78bcc5"
      },
      "execution_count": 1,
      "outputs": [
        {
          "output_type": "stream",
          "name": "stdout",
          "text": [
            "[7, 192, 27, 70, 8]\n"
          ]
        }
      ]
    },
    {
      "cell_type": "code",
      "source": [
        "#Producto por Escalar\n",
        "def producto_escalar(n,A):#Definimos una función\n",
        "  c=len(A) #Sea c= la cantidad e valores de A\n",
        "  B=c*[1.1]\n",
        "  for i in range(c): #Hacemos un for\n",
        "    B[i]=n*A[i]\n",
        "    print(B)\n",
        "producto_escalar(6,A=[3,7,5,2,11]) #Asignamos valores a la función tal que n= al escalar y A= al vector."
      ],
      "metadata": {
        "colab": {
          "base_uri": "https://localhost:8080/"
        },
        "id": "j0SqedWBiJLk",
        "outputId": "5621d092-5d27-498f-cbc4-8e7b138caf34"
      },
      "execution_count": 5,
      "outputs": [
        {
          "output_type": "stream",
          "name": "stdout",
          "text": [
            "[18, 1.1, 1.1, 1.1, 1.1]\n",
            "[18, 42, 1.1, 1.1, 1.1]\n",
            "[18, 42, 30, 1.1, 1.1]\n",
            "[18, 42, 30, 12, 1.1]\n",
            "[18, 42, 30, 12, 66]\n"
          ]
        }
      ]
    },
    {
      "cell_type": "code",
      "source": [
        "#Potencia de un vector\n",
        "def potencia_de_un_vector(n,A):\n",
        "  c=len(A) #Sea c= la cantidad e valores de A\n",
        "  B=c*[1.1]\n",
        "  for i in range(c): #Hacemos un for\n",
        "    B[i]=n*A[i]\n",
        "    print(B)\n",
        "potencia_de_un_vector(3,A=[(2,1),(2,1),(2,1)])"
      ],
      "metadata": {
        "colab": {
          "base_uri": "https://localhost:8080/"
        },
        "id": "eeCFLwBIXBTu",
        "outputId": "605eed88-ad4f-46f4-a75c-20fac009e413"
      },
      "execution_count": 37,
      "outputs": [
        {
          "output_type": "stream",
          "name": "stdout",
          "text": [
            "[(2, 1, 2, 1, 2, 1), 1.1, 1.1]\n",
            "[(2, 1, 2, 1, 2, 1), (2, 1, 2, 1, 2, 1), 1.1]\n",
            "[(2, 1, 2, 1, 2, 1), (2, 1, 2, 1, 2, 1), (2, 1, 2, 1, 2, 1)]\n"
          ]
        }
      ]
    },
    {
      "cell_type": "code",
      "source": [],
      "metadata": {
        "id": "zTKfibiSVS6I"
      },
      "execution_count": null,
      "outputs": []
    }
  ]
}