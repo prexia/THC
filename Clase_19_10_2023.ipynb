{
  "nbformat": 4,
  "nbformat_minor": 0,
  "metadata": {
    "colab": {
      "provenance": [],
      "authorship_tag": "ABX9TyMpb6Az0meNBBK5ie+apYZ5",
      "include_colab_link": true
    },
    "kernelspec": {
      "name": "python3",
      "display_name": "Python 3"
    },
    "language_info": {
      "name": "python"
    }
  },
  "cells": [
    {
      "cell_type": "markdown",
      "metadata": {
        "id": "view-in-github",
        "colab_type": "text"
      },
      "source": [
        "<a href=\"https://colab.research.google.com/github/prexia/THC/blob/desarollo/Clase_19_10_2023.ipynb\" target=\"_parent\"><img src=\"https://colab.research.google.com/assets/colab-badge.svg\" alt=\"Open In Colab\"/></a>"
      ]
    },
    {
      "cell_type": "code",
      "execution_count": 2,
      "metadata": {
        "colab": {
          "base_uri": "https://localhost:8080/"
        },
        "id": "p8Hhm_qOD2HA",
        "outputId": "a7382c67-c858-43be-fce5-4bb0eac4af7d"
      },
      "outputs": [
        {
          "output_type": "stream",
          "name": "stdout",
          "text": [
            "[1 2 3 4 5]\n",
            "<class 'numpy.ndarray'>\n"
          ]
        }
      ],
      "source": [
        "import numpy as np\n",
        "arr = np.array([1,2,3,4,5]) #Lista adentro del parentesis\n",
        "\n",
        "print(arr)\n",
        "print(type(arr)) #Te imprime un arreglo\n"
      ]
    },
    {
      "cell_type": "code",
      "source": [
        "arr1= np.array((1,2,3,4,5)) #Tupla dentro del parentesis\n",
        "\n",
        "print(arr)\n",
        "print(type(arr))#Te imprime un arreglo"
      ],
      "metadata": {
        "colab": {
          "base_uri": "https://localhost:8080/"
        },
        "id": "iRr2sobYEUyF",
        "outputId": "b46fb0fc-3a36-4dca-ac3a-56ef5139fbbc"
      },
      "execution_count": 3,
      "outputs": [
        {
          "output_type": "stream",
          "name": "stdout",
          "text": [
            "[1 2 3 4 5]\n",
            "<class 'numpy.ndarray'>\n"
          ]
        }
      ]
    },
    {
      "cell_type": "code",
      "source": [
        "#Arreglo 0 Dimensional 0-D (Punto)\n",
        "arr= np.array(42)\n",
        "\n",
        "print(arr)"
      ],
      "metadata": {
        "colab": {
          "base_uri": "https://localhost:8080/"
        },
        "id": "x7aw6UTKEvfx",
        "outputId": "4b6c169b-f69a-4760-ecb0-c94bbf0b3cfe"
      },
      "execution_count": 4,
      "outputs": [
        {
          "output_type": "stream",
          "name": "stdout",
          "text": [
            "42\n"
          ]
        }
      ]
    },
    {
      "cell_type": "code",
      "source": [
        "#Arreglo 1-D (Linea)\n",
        "arr = np.array([1,2,3,4,5])\n",
        "\n",
        "print(arr)"
      ],
      "metadata": {
        "colab": {
          "base_uri": "https://localhost:8080/"
        },
        "id": "NV9ZCniVFGWd",
        "outputId": "df324e51-f289-467f-9161-5e55bd27ee64"
      },
      "execution_count": 6,
      "outputs": [
        {
          "output_type": "stream",
          "name": "stdout",
          "text": [
            "[1 2 3 4 5]\n"
          ]
        }
      ]
    },
    {
      "cell_type": "code",
      "source": [
        "#Arreglo Bidimensional 2-D (Cuadrado)\n",
        "arr = np.array([[1,2,3],[4,5,6]])\n",
        "\n",
        "print(arr)"
      ],
      "metadata": {
        "colab": {
          "base_uri": "https://localhost:8080/"
        },
        "id": "Sl0LqJh7FMQ6",
        "outputId": "3c145ee7-a7c1-4abe-dd89-0f5b7ee6101b"
      },
      "execution_count": 5,
      "outputs": [
        {
          "output_type": "stream",
          "name": "stdout",
          "text": [
            "[[1 2 3]\n",
            " [4 5 6]]\n"
          ]
        }
      ]
    },
    {
      "cell_type": "code",
      "source": [
        "#Arreglos Tridimensionales 3-D (Cubo)\n",
        "arr = np.array([[[1,2,3],[4,5,6]],[[1,2,3],[4,5,6]]])\n",
        "print(arr)"
      ],
      "metadata": {
        "colab": {
          "base_uri": "https://localhost:8080/"
        },
        "id": "RoQFbPvEFgfY",
        "outputId": "77b4eb8a-d3f7-4a6f-9014-b492e1924c25"
      },
      "execution_count": 12,
      "outputs": [
        {
          "output_type": "stream",
          "name": "stdout",
          "text": [
            "[[[1 2 3]\n",
            "  [4 5 6]]\n",
            "\n",
            " [[1 2 3]\n",
            "  [4 5 6]]]\n"
          ]
        }
      ]
    },
    {
      "cell_type": "code",
      "source": [
        "a = np.array(42)\n",
        "b = np.array([1,2,3,4,5])\n",
        "c= np.array([[1,2,3],[4,5,6]])\n",
        "d = np.array([[[1,2,3],[4,5,6]],[[1,2,3],[4,5,6]]])\n",
        "#Primer Valor la cantidad de elementos\n",
        "#En los parentesis la cantidad de renglones, columnas\n",
        "print(a.ndim,a.shape)\n",
        "print(b.ndim,b.shape)\n",
        "print(c.ndim,c.shape)\n",
        "print(d.ndim,d.shape)"
      ],
      "metadata": {
        "colab": {
          "base_uri": "https://localhost:8080/"
        },
        "id": "Zh9DJSOwGp-M",
        "outputId": "14aa816b-ebde-4219-dd75-848cd3282f8f"
      },
      "execution_count": 17,
      "outputs": [
        {
          "output_type": "stream",
          "name": "stdout",
          "text": [
            "0 ()\n",
            "1 (5,)\n",
            "2 (2, 3)\n",
            "3 (2, 2, 3)\n"
          ]
        }
      ]
    },
    {
      "cell_type": "code",
      "source": [
        "arr = np.array([])"
      ],
      "metadata": {
        "id": "ZNxvXUpkIcnv"
      },
      "execution_count": null,
      "outputs": []
    },
    {
      "cell_type": "code",
      "source": [
        "arr = np.array([1,2,3,4])\n",
        "print(arr[0])\n",
        "print(arr[3])"
      ],
      "metadata": {
        "colab": {
          "base_uri": "https://localhost:8080/"
        },
        "id": "yi98vyuGIgJy",
        "outputId": "c3fd267c-f032-47f0-98f7-0693af285765"
      },
      "execution_count": 19,
      "outputs": [
        {
          "output_type": "stream",
          "name": "stdout",
          "text": [
            "1\n",
            "4\n"
          ]
        }
      ]
    },
    {
      "cell_type": "code",
      "source": [
        "arr = np.array([[1,2,3,4,5],[6,7,8,9,10]])\n",
        "print(\"El segundo elemento de la fila:\",arr[0,1]) #Pirmer valor el numero de la matriz, el segundo el lugar del valor\n",
        "print(arr[1,4])\n",
        "print(arr[0,3])"
      ],
      "metadata": {
        "colab": {
          "base_uri": "https://localhost:8080/"
        },
        "id": "Lr-L034sIqvm",
        "outputId": "282357e2-f3da-498a-f3b3-6909e9f71b81"
      },
      "execution_count": 22,
      "outputs": [
        {
          "output_type": "stream",
          "name": "stdout",
          "text": [
            "El segundo elemento de la fila: 2\n",
            "10\n",
            "4\n"
          ]
        }
      ]
    },
    {
      "cell_type": "code",
      "source": [
        "arr = np.array([[[1, 2, 3], [4, 5, 6]], [[7, 8, 9], [10, 11, 12]]])\n",
        "                   #0           #1          #0           #1\n",
        "print(arr[1,1,1])\n",
        "print(arr[0,1,0])"
      ],
      "metadata": {
        "colab": {
          "base_uri": "https://localhost:8080/"
        },
        "id": "ycxT17ybJegO",
        "outputId": "ef2af432-0c86-4b5b-fb60-39eb7be49564"
      },
      "execution_count": 26,
      "outputs": [
        {
          "output_type": "stream",
          "name": "stdout",
          "text": [
            "11\n",
            "4\n"
          ]
        }
      ]
    },
    {
      "cell_type": "code",
      "source": [
        "A=[[1,2,3],[6,7,8],[9,10,11]]\n",
        "for i in range (len(A)):\n",
        "  for j in range (len(A)):\n",
        "    print([i]+[j])\n",
        "\n"
      ],
      "metadata": {
        "colab": {
          "base_uri": "https://localhost:8080/"
        },
        "id": "aAnOmd7rJ6NF",
        "outputId": "37607311-a79c-4d99-c588-df2c77e659ba"
      },
      "execution_count": 35,
      "outputs": [
        {
          "output_type": "stream",
          "name": "stdout",
          "text": [
            "[0, 0]\n",
            "[0, 1]\n",
            "[0, 2]\n",
            "[1, 0]\n",
            "[1, 1]\n",
            "[1, 2]\n",
            "[2, 0]\n",
            "[2, 1]\n",
            "[2, 2]\n"
          ]
        }
      ]
    },
    {
      "cell_type": "code",
      "source": [
        "arr = np.array=([[1,2,3],[4,5,6],[7,8,9]])\n",
        "for i in arr:\n",
        "  for j in arr:\n",
        "    print([i]+[j])"
      ],
      "metadata": {
        "colab": {
          "base_uri": "https://localhost:8080/"
        },
        "id": "SxDbDEP1LrC0",
        "outputId": "d13b7df8-5b9f-4cc5-aa81-6cabe2583abf"
      },
      "execution_count": 41,
      "outputs": [
        {
          "output_type": "stream",
          "name": "stdout",
          "text": [
            "[[1, 2, 3], [1, 2, 3]]\n",
            "[[1, 2, 3], [4, 5, 6]]\n",
            "[[1, 2, 3], [7, 8, 9]]\n",
            "[[4, 5, 6], [1, 2, 3]]\n",
            "[[4, 5, 6], [4, 5, 6]]\n",
            "[[4, 5, 6], [7, 8, 9]]\n",
            "[[7, 8, 9], [1, 2, 3]]\n",
            "[[7, 8, 9], [4, 5, 6]]\n",
            "[[7, 8, 9], [7, 8, 9]]\n"
          ]
        }
      ]
    },
    {
      "cell_type": "code",
      "source": [
        "def suma_de_matrices(A,B,H):\n",
        "  if len(A)==len(B)==len(H):\n",
        "      n=len(A)\n",
        "      C=n*[1.1]\n",
        "      D=0\n",
        "      for i in range (n):\n",
        "        C[i]=A[i]+B[i]+H[i]\n",
        "        D=C[i]+D\n",
        "      print(D)\n",
        "  else:\n",
        "    print(NO)\n",
        "suma_de_matrices(A=[1,1,1],B=[1,1,1],H=[1,1,1])"
      ],
      "metadata": {
        "colab": {
          "base_uri": "https://localhost:8080/"
        },
        "id": "RZ6O4uoVNLlZ",
        "outputId": "7b537919-54f9-4321-d6a4-7187942478b4"
      },
      "execution_count": 50,
      "outputs": [
        {
          "output_type": "stream",
          "name": "stdout",
          "text": [
            "9\n"
          ]
        }
      ]
    },
    {
      "cell_type": "code",
      "source": [
        "import numpy as np\n",
        "arr = np.array([[1,1,1],[1,1,1],[1,1,1]])\n",
        "Suma=0\n",
        "for i in range(len(arr)):\n",
        "  for j in range(len(arr[i])):\n",
        "    Suma=Suma+arr[i,j]\n",
        "print(Suma)"
      ],
      "metadata": {
        "colab": {
          "base_uri": "https://localhost:8080/"
        },
        "id": "yX7Ne2sfPYOi",
        "outputId": "94d35d5d-b449-424f-eb9d-64b55d5fdbeb"
      },
      "execution_count": 10,
      "outputs": [
        {
          "output_type": "stream",
          "name": "stdout",
          "text": [
            "9\n"
          ]
        }
      ]
    },
    {
      "cell_type": "code",
      "source": [
        "import numpy as np\n",
        "arr = np.array([[1,1,1],[1,1,1],[1,1,1]])\n",
        "for i in range(len(arr)):\n",
        "  for j in range(len(arr)):\n",
        "    print(i*j)"
      ],
      "metadata": {
        "colab": {
          "base_uri": "https://localhost:8080/"
        },
        "id": "7H6MXJSwRr4P",
        "outputId": "8f2c5e25-ec1d-402d-dcab-b95022e8ca88"
      },
      "execution_count": 4,
      "outputs": [
        {
          "output_type": "stream",
          "name": "stdout",
          "text": [
            "0\n",
            "0\n",
            "0\n",
            "0\n",
            "1\n",
            "2\n",
            "0\n",
            "2\n",
            "4\n"
          ]
        }
      ]
    },
    {
      "cell_type": "code",
      "source": [],
      "metadata": {
        "id": "vvsGK-YhW5cn"
      },
      "execution_count": null,
      "outputs": []
    },
    {
      "cell_type": "code",
      "source": [
        "#EJERCICIO BIEN HECHO\n",
        "A=[[1,1,1],[1,1,1],[1,1,1]]\n",
        "suma=0\n",
        "for i in range(len(A)):\n",
        "    for j in range(len(A)):\n",
        "      suma=suma+A[i][j]\n",
        "print(suma)"
      ],
      "metadata": {
        "colab": {
          "base_uri": "https://localhost:8080/"
        },
        "id": "lnortUNmU_x7",
        "outputId": "a06ebce2-b369-493b-b58e-22b7271f9cf4"
      },
      "execution_count": 9,
      "outputs": [
        {
          "output_type": "stream",
          "name": "stdout",
          "text": [
            "9\n"
          ]
        }
      ]
    },
    {
      "cell_type": "code",
      "source": [],
      "metadata": {
        "id": "U3okXrCiV3Lr"
      },
      "execution_count": null,
      "outputs": []
    },
    {
      "cell_type": "code",
      "source": [
        "def ProdPunto(a,b):\n",
        "  #Para Listas\n",
        "  for i in range(len(a)):\n",
        "    PP=0.0\n",
        "    PP=a[i]*b[i]\n",
        "  return PP"
      ],
      "metadata": {
        "id": "H9nosYVeWTGQ"
      },
      "execution_count": 20,
      "outputs": []
    },
    {
      "cell_type": "code",
      "source": [],
      "metadata": {
        "id": "21Qkgah2Yk51"
      },
      "execution_count": null,
      "outputs": []
    },
    {
      "cell_type": "code",
      "source": [
        "arr2=np.array([[1,1,1],[1,1,1],[1,1,1]])\n",
        "arr3=np.array([[1,1,1],[1,1,1],[1,1,1]])\n",
        "arr2[0]\n",
        "Pp_por_rengl=np.array([0,0,0])\n",
        "Pp_por_col=np.array([0,0,0])\n",
        "for i in range(len(arr2)):\n",
        "  Pp_por_rengl[i]=ProdPunto(arr2[i],arr3[i])\n",
        "Pp_por_rengl"
      ],
      "metadata": {
        "colab": {
          "base_uri": "https://localhost:8080/"
        },
        "id": "EG58rXfcW7Cu",
        "outputId": "ec89eb6f-350a-4f3c-8d91-3f41c7702300"
      },
      "execution_count": 22,
      "outputs": [
        {
          "output_type": "execute_result",
          "data": {
            "text/plain": [
              "array([1, 1, 1])"
            ]
          },
          "metadata": {},
          "execution_count": 22
        }
      ]
    },
    {
      "cell_type": "code",
      "source": [
        "def AC(a,col):\n",
        "  nuevo=[]\n",
        "  for i in range(len(a)):\n",
        "    nuevo.append(a[i,col])\n",
        "\n",
        "    return np.array(nuevo)\n",
        "    col1=AC(arr2,0)\n",
        "    col1\n",
        "\n"
      ],
      "metadata": {
        "id": "6C_cylcmYmPq"
      },
      "execution_count": 29,
      "outputs": []
    },
    {
      "cell_type": "code",
      "source": [
        "for i in range(len(arr2)):\n",
        "  Pp_por_col[i]=ProdPunto(AC(arr2,1),AC(arr3,i))\n",
        "Pp_por_col"
      ],
      "metadata": {
        "colab": {
          "base_uri": "https://localhost:8080/"
        },
        "id": "Z849xEYWZyC8",
        "outputId": "d364d082-3c23-4493-b46a-c81289c2e3e9"
      },
      "execution_count": 28,
      "outputs": [
        {
          "output_type": "execute_result",
          "data": {
            "text/plain": [
              "array([1, 1, 1])"
            ]
          },
          "metadata": {},
          "execution_count": 28
        }
      ]
    }
  ]
}