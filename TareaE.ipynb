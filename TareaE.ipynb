{
  "nbformat": 4,
  "nbformat_minor": 0,
  "metadata": {
    "colab": {
      "provenance": [],
      "authorship_tag": "ABX9TyNZusmrwqi80rSiBYhFV1BM",
      "include_colab_link": true
    },
    "kernelspec": {
      "name": "python3",
      "display_name": "Python 3"
    },
    "language_info": {
      "name": "python"
    }
  },
  "cells": [
    {
      "cell_type": "markdown",
      "metadata": {
        "id": "view-in-github",
        "colab_type": "text"
      },
      "source": [
        "<a href=\"https://colab.research.google.com/github/prexia/THC/blob/desarollo/TareaE.ipynb\" target=\"_parent\"><img src=\"https://colab.research.google.com/assets/colab-badge.svg\" alt=\"Open In Colab\"/></a>"
      ]
    },
    {
      "cell_type": "markdown",
      "source": [
        "#### TAREAE\n",
        "###Bravo Moreno Santiago y Luna Martinez Lizbeth"
      ],
      "metadata": {
        "id": "pRe4lvykfB5T"
      }
    },
    {
      "cell_type": "markdown",
      "source": [
        "**Ejercicio 1** : Sumar dos matrices rectangulares"
      ],
      "metadata": {
        "id": "xfacgkfjfI5L"
      }
    },
    {
      "cell_type": "code",
      "source": [
        "import math #Importamos la biblioteca de math\n",
        "A=[[6,23,1,7],[9,6,4,9,]] #Definimos nuestra matriz A\n",
        "B=[[12,4,7,1],[21,3,2,10]] #Definimos nuestra matriz B\n",
        "for i in range(len(A)): #Para algun valor dentro de la longitud de A\n",
        "  (len(A[0]))==len(B[0]) #Ponemos que la cantidad de valores de A es igual que al de B para que pueda sumar las matrices\n",
        "   #ya que son rectangulares y tienen diferente numero de renglones y columnas\n",
        "  for j in range(len(A[0])):#Para cualquier j dentro de la longitud de B\n",
        "      print(A[i][j]+B[i][j]) #Imprimimos la suma de las matrices de(A+B)\n"
      ],
      "metadata": {
        "colab": {
          "base_uri": "https://localhost:8080/"
        },
        "id": "O9XNyg-vfKxV",
        "outputId": "f6763421-31de-4f50-dca5-c8914b1d03ad"
      },
      "execution_count": null,
      "outputs": [
        {
          "output_type": "stream",
          "name": "stdout",
          "text": [
            "18\n",
            "27\n",
            "8\n",
            "8\n",
            "30\n",
            "9\n",
            "6\n",
            "19\n"
          ]
        }
      ]
    },
    {
      "cell_type": "markdown",
      "source": [
        "**Ejercicio 2**: Multiplicar entrada a entrada de matrices recatngulares"
      ],
      "metadata": {
        "id": "v1VBXZ4NjNIx"
      }
    },
    {
      "cell_type": "code",
      "source": [
        "import math #Importamos la biblioteca math\n",
        "A=[[2,6,4,9],[1,7,8,3]] #Definimos nuestra matriz A.\n",
        "B=[[12,4,21,5],[1,22,9,8]]#Definimos nuestra matriz B.\n",
        "for i in range(len(A)): #Para cualquier valor dentro de la longitud de A.\n",
        "  (len(A[0]))==len(B[0]) #Ponemos que la cantidad de valores de A es igual que al de B para que pueda multiplicar las matrices\n",
        "   #ya que son rectangulares y tienen diferente numero de renglones y columnas.\n",
        "  for j in range(len(A[0])): #Para cualquier valor dentro de la longitud de B.\n",
        "      print(A[i][j]*B[i][j]) #Imprimimos la multiplicacion de las matrices(A*B).\n"
      ],
      "metadata": {
        "colab": {
          "base_uri": "https://localhost:8080/"
        },
        "id": "kF3Sh-kAjOiI",
        "outputId": "1226e14c-f0aa-4834-ea16-42451794df43"
      },
      "execution_count": null,
      "outputs": [
        {
          "output_type": "stream",
          "name": "stdout",
          "text": [
            "24\n",
            "24\n",
            "84\n",
            "45\n",
            "1\n",
            "154\n",
            "72\n",
            "24\n"
          ]
        }
      ]
    },
    {
      "cell_type": "markdown",
      "source": [
        "**Ejercicio 3** : La traza de una matriz\n",
        "\n"
      ],
      "metadata": {
        "id": "uwQIatubj1Xj"
      }
    },
    {
      "cell_type": "code",
      "source": [
        "import math #Importamos la biblioteca math\n",
        "A=[[-3,5,9],[3,-5,-9],[-3,5,9]] #Definimos nuestra matriz A\n",
        "Suma=0 #Definimos a la suma como 0 para que no sume ningun valor extra\n",
        "for i in range(len(A)): #Para un valor i en la longitud de A\n",
        "    Suma=Suma+A[i][i]#En este caso va a sumar -3+(-5)+9= 1ya que la traza suma de los valores que se encuantran en la diagonal de la matriz\n",
        "print(Suma)#Imprimos la suma de la traza"
      ],
      "metadata": {
        "colab": {
          "base_uri": "https://localhost:8080/"
        },
        "id": "MUNDEov7kVH6",
        "outputId": "a39ba954-880b-4dbc-8e85-b46fcdeaee09"
      },
      "execution_count": null,
      "outputs": [
        {
          "output_type": "stream",
          "name": "stdout",
          "text": [
            "1\n"
          ]
        }
      ]
    },
    {
      "cell_type": "markdown",
      "source": [
        "**Ejercicio 4**:La transpuesta"
      ],
      "metadata": {
        "id": "eRT__A7QmP82"
      }
    },
    {
      "cell_type": "code",
      "source": [
        "import math #Importamos la biblioteca math\n",
        "A=[[1,2,3],[4,5,6,],[7,8,9]] #Definimos nuestra matriz A\n",
        "for i in range(len(A)):#Para cualquier i en la longitud de A\n",
        "  for j in range(len(A)):#Para cualquier j en la longitud de A\n",
        "    print(A[j][i]) #Imprimos los valores de A pero invertidos\n",
        "#Ya que la transpuesta es cuando la diagonal central se queda igual\n",
        "# Lo que se intercambia son los valores de las demas diagonales sin tocar la central tal que los numeros que no cambian de orden son el 1,5,9\n",
        "#si es (1,2,3)       #(1,4,7)\n",
        "      #(4,5,6) #Queda#(2,5,8)\n",
        "      #(7,8,9)       #(3,6,9)"
      ],
      "metadata": {
        "colab": {
          "base_uri": "https://localhost:8080/"
        },
        "id": "_slogGAcmRqF",
        "outputId": "ef8f5cb0-7bb9-40f9-ee05-fc1cb6fc76cd"
      },
      "execution_count": null,
      "outputs": [
        {
          "output_type": "stream",
          "name": "stdout",
          "text": [
            "1\n",
            "4\n",
            "7\n",
            "2\n",
            "5\n",
            "8\n",
            "3\n",
            "6\n",
            "9\n"
          ]
        }
      ]
    },
    {
      "cell_type": "markdown",
      "source": [
        "**Ejercicio 5**:Encontrar el valor minimo y maximo de una matriz"
      ],
      "metadata": {
        "id": "VYmfXC9xnJcZ"
      }
    },
    {
      "cell_type": "code",
      "source": [
        "import math #Importamos la Biblioteca math\n",
        "def maxmin():#Definimos una funcion que nos de el minimo y maximo\n",
        "    A=[[4,23,6], [22,13,2], [16,9,7]]#Asignamos los valores de la matriz de A\n",
        "\n",
        "    max1= A[0][0] #Asignamos el valor de maximo a max1, en este caso va a ser A y dos valores\n",
        "    min1= A[0][0] #Asignamos el valor de maximo a min1, en este caso va a ser A y dos valores\n",
        "\n",
        "    for i in range(len(A)): #Para cada valor de i en la longitud de A\n",
        "      for j in range(len(A[i])):#Para cada valor de j en la longitud de A (se pone el[1]para que sea la misma longitud)\n",
        "         if A[i][j] > max1: #Si ciertos malores de A son mayores al maximo\n",
        "                max1 = A[i][j] #Entonces ese valor va a ser igual al maximo\n",
        "         if A[i][j] < min1: #Si ciertos valores de A son menores al minimo\n",
        "                min1 = A[i][j]#Entonces ese valorva a ser igual al minimo\n",
        "\n",
        "    print(max1)#Imprimimos el valor maximo que =A[i][j]>max, osea el valor mas alto\n",
        "    print(min1)#Imprimimos el valor minimo que = A[i][j]<min, osea el valor mas pequeño\n",
        "\n",
        "maxmin()#Al ser una funcion al final tenemos que definir su valor\n"
      ],
      "metadata": {
        "colab": {
          "base_uri": "https://localhost:8080/"
        },
        "id": "0jp0Vd1ko8pr",
        "outputId": "5c80fde8-e4ec-45f9-c82e-b97b503fad5b"
      },
      "execution_count": 34,
      "outputs": [
        {
          "output_type": "stream",
          "name": "stdout",
          "text": [
            "23\n",
            "2\n"
          ]
        }
      ]
    },
    {
      "cell_type": "markdown",
      "source": [
        "**Ejercicio 6**: La suma del cuadrado de los elementos de una raiz"
      ],
      "metadata": {
        "id": "UNC7xGgluGjH"
      }
    },
    {
      "cell_type": "code",
      "source": [
        "import math #Importar la biblioteca math\n",
        "A=[[1,2,3],[4,5,6],[7,8,9]] #Definir nuestra matriz A\n",
        "suma=0 #Definimos la Suma=0 para que al momento de sumar no sume ningunu valor extra\n",
        "\n",
        "for i in range(len(A)): #Para cualquier i en la longitud de A\n",
        "  for j in range(len(A)):#Para cualquier j en la longitud de A\n",
        "      C=(A[i][j] * A[i][j]) #Definimos una C que sea igual al cuadrado de los valores en A\n",
        "      suma = suma + C #Hacemos la suma de suma(0)+C(los cuadrados de i y j)\n",
        "#1+2**+3**+4**+5**+6**+7**+8**+9**\n",
        "#1+4+9+16+25+36+49+64+81=285\n",
        "\n",
        "print(suma) #Imprimimos suma\n"
      ],
      "metadata": {
        "colab": {
          "base_uri": "https://localhost:8080/"
        },
        "id": "l-0kpTSduINL",
        "outputId": "9cad11db-3a19-4234-e0c2-345b7adcf5a1"
      },
      "execution_count": 4,
      "outputs": [
        {
          "output_type": "stream",
          "name": "stdout",
          "text": [
            "285\n"
          ]
        }
      ]
    },
    {
      "cell_type": "markdown",
      "source": [
        "**Ejercicio 7**:Potencia de matrices"
      ],
      "metadata": {
        "id": "V0cZbLQap3U8"
      }
    },
    {
      "cell_type": "code",
      "source": [
        "import math #Importamos la biblioteca math\n",
        "A=[[4,11,2],[12,5,7],[20,6,13]] #Definimos nuestra matriz A\n",
        "for i in range(len(A)): #Para cualquier valor i en la longitud de A\n",
        "  for j in range(len(A)): #Para cualquier valor j en la longitud de A\n",
        "    C=(A[i][j]*A[i][j]) #Definimos la variable de C, como todos los elementos de A multiplicados por si mismos una vez\n",
        "    print(C) #Imprimimos C"
      ],
      "metadata": {
        "colab": {
          "base_uri": "https://localhost:8080/"
        },
        "id": "VL3_QGCrp5wk",
        "outputId": "f921d86b-11b0-47af-c8a6-0daf38787a33"
      },
      "execution_count": 7,
      "outputs": [
        {
          "output_type": "stream",
          "name": "stdout",
          "text": [
            "16\n",
            "121\n",
            "4\n",
            "144\n",
            "25\n",
            "49\n",
            "400\n",
            "36\n",
            "169\n"
          ]
        }
      ]
    }
  ]
}