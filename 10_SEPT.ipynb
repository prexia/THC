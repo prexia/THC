{
  "nbformat": 4,
  "nbformat_minor": 0,
  "metadata": {
    "colab": {
      "provenance": [],
      "authorship_tag": "ABX9TyNe6bp0GYuxWWwXz6xX8yfi",
      "include_colab_link": true
    },
    "kernelspec": {
      "name": "python3",
      "display_name": "Python 3"
    },
    "language_info": {
      "name": "python"
    }
  },
  "cells": [
    {
      "cell_type": "markdown",
      "metadata": {
        "id": "view-in-github",
        "colab_type": "text"
      },
      "source": [
        "<a href=\"https://colab.research.google.com/github/prexia/THC/blob/desarollo/10_SEPT.ipynb\" target=\"_parent\"><img src=\"https://colab.research.google.com/assets/colab-badge.svg\" alt=\"Open In Colab\"/></a>"
      ]
    },
    {
      "cell_type": "markdown",
      "source": [],
      "metadata": {
        "id": "ibGXs8B2v9Sq"
      }
    },
    {
      "cell_type": "code",
      "source": [
        "thisdict={\"brand\": \"Ford\",\"model\": \"Mustang\", \"year1\": 1964, \"year\": 2020}\n",
        "print(thisdict)"
      ],
      "metadata": {
        "colab": {
          "base_uri": "https://localhost:8080/"
        },
        "id": "u9U6YcDNv9ar",
        "outputId": "15a77f81-1d6f-4d2c-b264-1c1ee49b98c4"
      },
      "execution_count": 2,
      "outputs": [
        {
          "output_type": "stream",
          "name": "stdout",
          "text": [
            "{'brand': 'Ford', 'model': 'Mustang', 'year1': 1964, 'year': 2020}\n"
          ]
        }
      ]
    },
    {
      "cell_type": "code",
      "source": [
        "diccionario ={\"python\": 2.7, \"zope\": 2.13, \"plone\": 5.7}\n",
        "\n",
        "l=[]\n",
        "for i in diccionario.keys():\n",
        "  print(i)\n",
        "  l.append(diccionario[i])\n",
        "\n",
        "print(l)"
      ],
      "metadata": {
        "colab": {
          "base_uri": "https://localhost:8080/"
        },
        "id": "tFqNB5hUxFRG",
        "outputId": "324ef7c4-73e6-4565-87b7-2f9d0d448b45"
      },
      "execution_count": 4,
      "outputs": [
        {
          "output_type": "stream",
          "name": "stdout",
          "text": [
            "python\n",
            "zope\n",
            "plone\n",
            "[2.7, 2.13, 5.7]\n"
          ]
        }
      ]
    },
    {
      "cell_type": "code",
      "source": [
        "import pandas as pd\n",
        "#Crear un diccionario de datos\n",
        "datos = {\"Nombre\": [\"Juan\", \"Maria\", \"Pedro\", \"Luisa\"], \"Edad\": [25,28,30,22], \"Cuidad\": [\"Madrid\",\"Barcelona\", \"Valencia\", \"Sevilla\"]}\n",
        "\n",
        "#Crear un DataFrame a partir del diccionario\n",
        "dataframe=pd.DataFrame(datos)\n",
        "\n",
        "#Mostrar Data frame\n",
        "print(dataframe)\n"
      ],
      "metadata": {
        "colab": {
          "base_uri": "https://localhost:8080/"
        },
        "id": "emDdXy8wxxBW",
        "outputId": "33314bbc-5c8b-4b62-8cf5-39c51307346f"
      },
      "execution_count": 6,
      "outputs": [
        {
          "output_type": "stream",
          "name": "stdout",
          "text": [
            "  Nombre  Edad     Cuidad\n",
            "0   Juan    25     Madrid\n",
            "1  Maria    28  Barcelona\n",
            "2  Pedro    30   Valencia\n",
            "3  Luisa    22    Sevilla\n"
          ]
        }
      ]
    },
    {
      "cell_type": "code",
      "source": [
        "frutas = (\"Manzana\", \"Fresa\", \"Uva\") #Tuplas\n",
        "for fruta in frutas:\n",
        "  print(fruta)\n",
        "if \"Manzana\" in frutas:\n",
        "  print(\"Si\")\n",
        "if \"Mnago\" in frutas:\n",
        "  print(\"Si\")\n",
        "else:\n",
        "    print(\"No\")\n",
        "\n"
      ],
      "metadata": {
        "colab": {
          "base_uri": "https://localhost:8080/"
        },
        "id": "kAXelYyWzSOc",
        "outputId": "499e1c82-d6d3-4f78-8b94-2d971a1d2732"
      },
      "execution_count": 11,
      "outputs": [
        {
          "output_type": "stream",
          "name": "stdout",
          "text": [
            "Manzana\n",
            "Fresa\n",
            "Uva\n",
            "Si\n",
            "No\n"
          ]
        }
      ]
    },
    {
      "cell_type": "code",
      "source": [
        "# \"def\" para delclarar funcion\n",
        "def mi_funcion():\n",
        "  print(\"Hola te saludo desde mi función\")"
      ],
      "metadata": {
        "id": "NmOI0lbk12dM"
      },
      "execution_count": 14,
      "outputs": []
    },
    {
      "cell_type": "code",
      "source": [
        "mi_funcion()"
      ],
      "metadata": {
        "colab": {
          "base_uri": "https://localhost:8080/"
        },
        "id": "kVAqkLz720Wi",
        "outputId": "43707e3c-a219-4053-c079-ff70f7fede6c"
      },
      "execution_count": 15,
      "outputs": [
        {
          "output_type": "stream",
          "name": "stdout",
          "text": [
            "Hola te saludo desde mi función\n"
          ]
        }
      ]
    },
    {
      "cell_type": "code",
      "source": [
        "def mi_funcion_nueva(fname):\n",
        "  print(\"Hola \"+fname+\" te saludo desde mi funcion \")\n",
        "\n",
        "mi_funcion_nueva(\"Isari\")\n"
      ],
      "metadata": {
        "colab": {
          "base_uri": "https://localhost:8080/"
        },
        "id": "qO0Rh6EB3Lpp",
        "outputId": "3ca4e009-c54e-4053-cb97-23f4d009bd00"
      },
      "execution_count": 18,
      "outputs": [
        {
          "output_type": "stream",
          "name": "stdout",
          "text": [
            "Hola Isari te saludo desde mi funcion \n"
          ]
        }
      ]
    },
    {
      "cell_type": "code",
      "source": [
        "def Nombre(fname,lname):\n",
        "  print(\"Hola \"+fname+\" \"+lname+\" te saludo desde la funcion\")\n",
        "Nombre(\"Santiago\", \"Isari\")"
      ],
      "metadata": {
        "colab": {
          "base_uri": "https://localhost:8080/"
        },
        "id": "hh5MA3GL4F07",
        "outputId": "49f96258-b07a-47e6-b579-c329c71d3bf3"
      },
      "execution_count": 23,
      "outputs": [
        {
          "output_type": "stream",
          "name": "stdout",
          "text": [
            "Hola Santiago Isari te saludo desde la funcion\n"
          ]
        }
      ]
    },
    {
      "cell_type": "code",
      "source": [
        "#asterisco para meter varios valores\n",
        "def mi_funcion(*kids):\n",
        "  print(\"El niño menor es \"+kids[2]) #Imprime Linus ya que es el numero 2\n",
        "mi_funcion(\"Emil\", \"Tobias\", \"Linus\", \"Omar\")"
      ],
      "metadata": {
        "colab": {
          "base_uri": "https://localhost:8080/"
        },
        "id": "UvNXs60g4uSU",
        "outputId": "8fd95bc3-0f4a-44e1-fee2-81967d28d44e"
      },
      "execution_count": 24,
      "outputs": [
        {
          "output_type": "stream",
          "name": "stdout",
          "text": [
            "El niño menor es Linus\n"
          ]
        }
      ]
    },
    {
      "cell_type": "code",
      "source": [
        "def mi_funcion(niño3,niño2,niño1):\n",
        "  print(\"El niño menor es \" + niño3)\n",
        "\n",
        "mi_funcion(niño1 = \"Emil\", niño2 = \"Tobias\", niño3 = \"Linus\")"
      ],
      "metadata": {
        "colab": {
          "base_uri": "https://localhost:8080/"
        },
        "id": "2DLFRiSe5Uly",
        "outputId": "532f7990-abce-4f59-b7f6-9b01862f6142"
      },
      "execution_count": 25,
      "outputs": [
        {
          "output_type": "stream",
          "name": "stdout",
          "text": [
            "El niño menor es Linus\n"
          ]
        }
      ]
    },
    {
      "cell_type": "code",
      "source": [
        "def mi_funcion(**chamaco):\n",
        "  print(\"El apellido es \" + chamaco[\"Ape\"])\n",
        "\n",
        "mi_funcion(nombre = \"Aquiles\", Ape = \"Vapython\")"
      ],
      "metadata": {
        "colab": {
          "base_uri": "https://localhost:8080/"
        },
        "id": "WekuO32q59_a",
        "outputId": "3fa7ee56-dabf-48bd-e6f9-98bfe3db8d7e"
      },
      "execution_count": 27,
      "outputs": [
        {
          "output_type": "stream",
          "name": "stdout",
          "text": [
            "El apellido es Vapython\n"
          ]
        }
      ]
    },
    {
      "cell_type": "code",
      "source": [
        "def mi_funcion(pais=\"México\"):\n",
        "  print(\"Yo soy de \"+ pais)\n",
        "\n",
        "mi_funcion() #Imprime Mexico"
      ],
      "metadata": {
        "colab": {
          "base_uri": "https://localhost:8080/"
        },
        "id": "p4hvYcJS6Wna",
        "outputId": "a4aa080e-0c28-4f19-e9f5-89cf36a45cba"
      },
      "execution_count": 28,
      "outputs": [
        {
          "output_type": "stream",
          "name": "stdout",
          "text": [
            "Yo soy de México\n"
          ]
        }
      ]
    },
    {
      "cell_type": "code",
      "source": [
        "mi_funcion(\"Alemania\") #Imprime Alemania"
      ],
      "metadata": {
        "colab": {
          "base_uri": "https://localhost:8080/"
        },
        "id": "kWuZ_X6T6nOP",
        "outputId": "36962635-3092-4f9d-fccc-e465ead212ac"
      },
      "execution_count": 30,
      "outputs": [
        {
          "output_type": "stream",
          "name": "stdout",
          "text": [
            "Yo soy de Alemania\n"
          ]
        }
      ]
    },
    {
      "cell_type": "code",
      "source": [
        "A = [2,3,8,9,4]\n",
        "B = [5,7,3,6,8]\n",
        "n= len(A)\n",
        "C = n*[0.0]\n",
        "\n",
        "if len(A)==len(B):\n",
        "  for i in range (n):\n",
        "    C[i]=A[i]+B[i]\n",
        "print(C)\n"
      ],
      "metadata": {
        "colab": {
          "base_uri": "https://localhost:8080/"
        },
        "id": "dBg01uzU62OA",
        "outputId": "a74c0cb6-380e-496b-93fe-af61f7ffe590"
      },
      "execution_count": 48,
      "outputs": [
        {
          "output_type": "stream",
          "name": "stdout",
          "text": [
            "[7, 10, 11, 15, 12]\n"
          ]
        }
      ]
    },
    {
      "cell_type": "code",
      "source": [
        "def sum_vec(A,B):\n",
        "  if len(A)==len(B):\n",
        "    n=len(A)\n",
        "    C=n*[0.0]\n",
        "    for i in range (n):\n",
        "      C[i]=A[i]+B[i]\n",
        "    print(C)\n",
        "  else:\n",
        "    print(NO)\n",
        "sum_vec(A=[4,5,6,8,7],B=[5,7,8,9,4])\n"
      ],
      "metadata": {
        "colab": {
          "base_uri": "https://localhost:8080/"
        },
        "id": "pMOiC39r-pWo",
        "outputId": "7c44432e-4b13-4b14-df80-06ceb0e70d21"
      },
      "execution_count": 51,
      "outputs": [
        {
          "output_type": "stream",
          "name": "stdout",
          "text": [
            "[9, 12, 14, 17, 11]\n"
          ]
        }
      ]
    },
    {
      "cell_type": "code",
      "source": [
        "def producto_punto(A,B):\n",
        "  if len(A)==len(B):\n",
        "      n=len(A)\n",
        "      C=n*[1.1]\n",
        "      for i in range (n):\n",
        "        C[i]=A[i]*B[i]\n",
        "      print(C)\n",
        "  else:\n",
        "    print(NO)\n",
        "producto_punto(A=[4,5,6,8,7],B=[5,7,8,9,4])\n",
        ""
      ],
      "metadata": {
        "colab": {
          "base_uri": "https://localhost:8080/"
        },
        "id": "8Jl7qhGLD8RJ",
        "outputId": "c5b7a585-2bb1-4e64-d158-3f5ce7f053a3"
      },
      "execution_count": 52,
      "outputs": [
        {
          "output_type": "stream",
          "name": "stdout",
          "text": [
            "[20, 35, 48, 72, 28]\n"
          ]
        }
      ]
    }
  ]
}