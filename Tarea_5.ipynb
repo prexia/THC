{
  "nbformat": 4,
  "nbformat_minor": 0,
  "metadata": {
    "colab": {
      "provenance": [],
      "authorship_tag": "ABX9TyMDkq1Xg5J+khV1dbQftJjT",
      "include_colab_link": true
    },
    "kernelspec": {
      "name": "python3",
      "display_name": "Python 3"
    },
    "language_info": {
      "name": "python"
    }
  },
  "cells": [
    {
      "cell_type": "markdown",
      "metadata": {
        "id": "view-in-github",
        "colab_type": "text"
      },
      "source": [
        "<a href=\"https://colab.research.google.com/github/prexia/THC/blob/desarollo/Tarea_5.ipynb\" target=\"_parent\"><img src=\"https://colab.research.google.com/assets/colab-badge.svg\" alt=\"Open In Colab\"/></a>"
      ]
    },
    {
      "cell_type": "markdown",
      "source": [
        "BRAVO MORENO SANTIAGO TAREA 5"
      ],
      "metadata": {
        "id": "KA9ZvMCMs5Ep"
      }
    },
    {
      "cell_type": "code",
      "source": [
        "#Ejercicio 1\n",
        "Numeros=[1,2,3,4,5]\n",
        "print(Numeros)\n",
        "i=0\n",
        "while i < 5:\n",
        "  num=(int(input(\"Ingrese un Numero\")))\n",
        "  Numeros.append(num)\n",
        "  i=i+1\n",
        "print(Numeros)\n",
        "Valores= len(Numeros)\n",
        "suma=0\n",
        "for x in Numeros:\n",
        "  suma= x+suma\n",
        "\n",
        "print(suma)\n",
        "promedio=(suma/Valores)\n",
        "print(promedio)"
      ],
      "metadata": {
        "colab": {
          "base_uri": "https://localhost:8080/"
        },
        "id": "37m1ZUN2Zwv7",
        "outputId": "a7b7203f-96d4-4287-bc44-5cf78ca014f9"
      },
      "execution_count": 49,
      "outputs": [
        {
          "output_type": "stream",
          "name": "stdout",
          "text": [
            "[1, 2, 3, 4, 5]\n",
            "Ingrese un Numero81\n",
            "Ingrese un Numero74\n",
            "Ingrese un Numero9\n",
            "Ingrese un Numero51\n",
            "Ingrese un Numero3\n",
            "[1, 2, 3, 4, 5, 81, 74, 9, 51, 3]\n",
            "233\n",
            "23.3\n"
          ]
        }
      ]
    },
    {
      "cell_type": "code",
      "source": [
        "#Ejercicio 2\n",
        "Numeros=[3,8,12,4,2,7,19,6,11,21,9,17,2]\n",
        "print(\"Valor minimo en Numeros\")\n",
        "mínimo = min(Numeros)\n",
        "print(mínimo)\n",
        "print(\"Valor máximo en Numeros\")\n",
        "máximo = max(Numeros)\n",
        "print(máximo)"
      ],
      "metadata": {
        "colab": {
          "base_uri": "https://localhost:8080/"
        },
        "id": "1ckx3WJutjlq",
        "outputId": "fde85574-a0f8-4505-a872-a427e6f968f1"
      },
      "execution_count": null,
      "outputs": [
        {
          "output_type": "stream",
          "name": "stdout",
          "text": [
            "Valor minimo en Numeros\n",
            "2\n",
            "Valor máximo en Numeros\n",
            "21\n"
          ]
        }
      ]
    },
    {
      "cell_type": "code",
      "source": [
        "#Ejercicio 3\n",
        "Numeros=[1,2,3,4,5,6,7,8,9,10,11,12,13,14,15,16,17,18,19,20,21]\n",
        "print(\"Números pares\")\n",
        "for i in Numeros:\n",
        "  if i%2==0:\n",
        "    print(i)\n",
        "print(\"Números impares\")\n",
        "for x in Numeros:\n",
        "  if x%2==1:\n",
        "    print(x)\n"
      ],
      "metadata": {
        "colab": {
          "base_uri": "https://localhost:8080/"
        },
        "id": "FugIk-DStnir",
        "outputId": "6b519cec-5b5a-45bd-b4ef-4cf2b4347ac9"
      },
      "execution_count": null,
      "outputs": [
        {
          "output_type": "stream",
          "name": "stdout",
          "text": [
            "Números pares\n",
            "2\n",
            "4\n",
            "6\n",
            "8\n",
            "10\n",
            "12\n",
            "14\n",
            "16\n",
            "18\n",
            "20\n",
            "Números impares\n",
            "1\n",
            "3\n",
            "5\n",
            "7\n",
            "9\n",
            "11\n",
            "13\n",
            "15\n",
            "17\n",
            "19\n",
            "21\n"
          ]
        }
      ]
    }
  ]
}