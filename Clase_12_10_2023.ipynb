{
  "nbformat": 4,
  "nbformat_minor": 0,
  "metadata": {
    "colab": {
      "provenance": [],
      "authorship_tag": "ABX9TyMbSUzlRYkSl5dGLmivjG0S",
      "include_colab_link": true
    },
    "kernelspec": {
      "name": "python3",
      "display_name": "Python 3"
    },
    "language_info": {
      "name": "python"
    }
  },
  "cells": [
    {
      "cell_type": "markdown",
      "metadata": {
        "id": "view-in-github",
        "colab_type": "text"
      },
      "source": [
        "<a href=\"https://colab.research.google.com/github/prexia/THC/blob/desarollo/Clase_12_10_2023.ipynb\" target=\"_parent\"><img src=\"https://colab.research.google.com/assets/colab-badge.svg\" alt=\"Open In Colab\"/></a>"
      ]
    },
    {
      "cell_type": "markdown",
      "source": [
        "BRAVO MORENO SANTIAGO \\\\\n",
        "CRUZ CONTRERAS ISARI LYVIER"
      ],
      "metadata": {
        "id": "mAo45RfrE8H8"
      }
    },
    {
      "cell_type": "code",
      "source": [
        "def mi_funcion(x):\n",
        "  return 5*(x) #return Para devolver el valor con algo\n",
        "mi_funcion(3)"
      ],
      "metadata": {
        "colab": {
          "base_uri": "https://localhost:8080/"
        },
        "id": "adSJGjkvE_QU",
        "outputId": "561edff4-500a-47b9-f872-8b93b49b1893"
      },
      "execution_count": 2,
      "outputs": [
        {
          "output_type": "execute_result",
          "data": {
            "text/plain": [
              "15"
            ]
          },
          "metadata": {},
          "execution_count": 2
        }
      ]
    },
    {
      "cell_type": "code",
      "source": [
        "x= lambda a : a + 10 # lo Asigno a x\n",
        "print(x(5)) # el a es el q entra en este caso 5 y se le suma el 10"
      ],
      "metadata": {
        "colab": {
          "base_uri": "https://localhost:8080/"
        },
        "id": "Vz7VGoHOFT5V",
        "outputId": "a9c624f8-ad4e-49c0-cc33-b61549b40447"
      },
      "execution_count": 4,
      "outputs": [
        {
          "output_type": "stream",
          "name": "stdout",
          "text": [
            "15\n"
          ]
        }
      ]
    },
    {
      "cell_type": "code",
      "source": [
        "x = lambda a, b : a*b\n",
        "print(x(5,6))"
      ],
      "metadata": {
        "colab": {
          "base_uri": "https://localhost:8080/"
        },
        "id": "VN31zc1vGm60",
        "outputId": "aa89d1c2-d9b5-4be1-d859-facde59193b3"
      },
      "execution_count": 5,
      "outputs": [
        {
          "output_type": "stream",
          "name": "stdout",
          "text": [
            "30\n"
          ]
        }
      ]
    },
    {
      "cell_type": "code",
      "source": [
        "x = lambda a, b, c : a+b+c\n",
        "print(x(5,6,2))"
      ],
      "metadata": {
        "colab": {
          "base_uri": "https://localhost:8080/"
        },
        "id": "gMuSqlM3GzOK",
        "outputId": "1f11e573-cfa8-4f3d-eb25-092b993f1143"
      },
      "execution_count": 6,
      "outputs": [
        {
          "output_type": "stream",
          "name": "stdout",
          "text": [
            "13\n"
          ]
        }
      ]
    },
    {
      "cell_type": "code",
      "source": [
        "def mifunc(n):\n",
        "    return lambda a : a * n #una funcion puede devolver una lambda\n",
        "midoble = mifunc(2) #midoble igual a la funcion\n",
        "print(midoble(23)) #imprimes el doble poniendo el valor\n"
      ],
      "metadata": {
        "colab": {
          "base_uri": "https://localhost:8080/"
        },
        "id": "nXi4dVLMG7mK",
        "outputId": "3e154040-d0bd-424f-b56a-ce028cf5d867"
      },
      "execution_count": 11,
      "outputs": [
        {
          "output_type": "stream",
          "name": "stdout",
          "text": [
            "46\n"
          ]
        }
      ]
    },
    {
      "cell_type": "code",
      "source": [
        "def mifunc(n):\n",
        "    return lambda a : a * n # la a de lambda depende de mifunc F(g(x))\n",
        "midoble = mifunc(2) #midoble igual a la funcion\n",
        "mitriple = mifunc(3)\n",
        "print(midoble(1.5))\n",
        "print(mitriple(17))"
      ],
      "metadata": {
        "colab": {
          "base_uri": "https://localhost:8080/"
        },
        "id": "O6lCa0YrINl0",
        "outputId": "1ea6f12e-539c-4d99-d609-90f0810d6132"
      },
      "execution_count": 16,
      "outputs": [
        {
          "output_type": "stream",
          "name": "stdout",
          "text": [
            "3.0\n",
            "51\n"
          ]
        }
      ]
    },
    {
      "cell_type": "code",
      "source": [
        "def filter(x, z):\n",
        "  C=[]\n",
        "  for i in range(x, z+1):\n",
        "    if i%2==0:\n",
        "      C.append(i)\n",
        "  return C\n",
        "\n",
        "filter(1,100)\n",
        ""
      ],
      "metadata": {
        "colab": {
          "base_uri": "https://localhost:8080/"
        },
        "id": "DBjlrGSEKfEH",
        "outputId": "db474628-f241-4071-dc2c-81b13b55b262"
      },
      "execution_count": 56,
      "outputs": [
        {
          "output_type": "execute_result",
          "data": {
            "text/plain": [
              "[2,\n",
              " 4,\n",
              " 6,\n",
              " 8,\n",
              " 10,\n",
              " 12,\n",
              " 14,\n",
              " 16,\n",
              " 18,\n",
              " 20,\n",
              " 22,\n",
              " 24,\n",
              " 26,\n",
              " 28,\n",
              " 30,\n",
              " 32,\n",
              " 34,\n",
              " 36,\n",
              " 38,\n",
              " 40,\n",
              " 42,\n",
              " 44,\n",
              " 46,\n",
              " 48,\n",
              " 50,\n",
              " 52,\n",
              " 54,\n",
              " 56,\n",
              " 58,\n",
              " 60,\n",
              " 62,\n",
              " 64,\n",
              " 66,\n",
              " 68,\n",
              " 70,\n",
              " 72,\n",
              " 74,\n",
              " 76,\n",
              " 78,\n",
              " 80,\n",
              " 82,\n",
              " 84,\n",
              " 86,\n",
              " 88,\n",
              " 90,\n",
              " 92,\n",
              " 94,\n",
              " 96,\n",
              " 98,\n",
              " 100]"
            ]
          },
          "metadata": {},
          "execution_count": 56
        }
      ]
    },
    {
      "cell_type": "code",
      "source": [
        "def mi_funcion(A):\n",
        "  return lambda a : A\n",
        "contraseña= mi_funcion(A=[iSARI])\n",
        "print(contraseña)"
      ],
      "metadata": {
        "colab": {
          "base_uri": "https://localhost:8080/",
          "height": 227
        },
        "id": "Bol6GQDGL2ar",
        "outputId": "c3ab2e4b-7160-4605-c9b9-9915ffcc4bd8"
      },
      "execution_count": 67,
      "outputs": [
        {
          "output_type": "error",
          "ename": "NameError",
          "evalue": "ignored",
          "traceback": [
            "\u001b[0;31m---------------------------------------------------------------------------\u001b[0m",
            "\u001b[0;31mNameError\u001b[0m                                 Traceback (most recent call last)",
            "\u001b[0;32m<ipython-input-67-d6a52d258bc9>\u001b[0m in \u001b[0;36m<cell line: 3>\u001b[0;34m()\u001b[0m\n\u001b[1;32m      1\u001b[0m \u001b[0;32mdef\u001b[0m \u001b[0mmi_funcion\u001b[0m\u001b[0;34m(\u001b[0m\u001b[0mA\u001b[0m\u001b[0;34m)\u001b[0m\u001b[0;34m:\u001b[0m\u001b[0;34m\u001b[0m\u001b[0;34m\u001b[0m\u001b[0m\n\u001b[1;32m      2\u001b[0m   \u001b[0;32mreturn\u001b[0m \u001b[0;32mlambda\u001b[0m \u001b[0ma\u001b[0m \u001b[0;34m:\u001b[0m \u001b[0mA\u001b[0m\u001b[0;34m\u001b[0m\u001b[0;34m\u001b[0m\u001b[0m\n\u001b[0;32m----> 3\u001b[0;31m \u001b[0mcontraseña\u001b[0m\u001b[0;34m=\u001b[0m \u001b[0mmi_funcion\u001b[0m\u001b[0;34m(\u001b[0m\u001b[0mA\u001b[0m\u001b[0;34m=\u001b[0m\u001b[0;34m[\u001b[0m\u001b[0miSARI\u001b[0m\u001b[0;34m]\u001b[0m\u001b[0;34m)\u001b[0m\u001b[0;34m\u001b[0m\u001b[0;34m\u001b[0m\u001b[0m\n\u001b[0m\u001b[1;32m      4\u001b[0m \u001b[0mprint\u001b[0m\u001b[0;34m(\u001b[0m\u001b[0mcontraseña\u001b[0m\u001b[0;34m)\u001b[0m\u001b[0;34m\u001b[0m\u001b[0;34m\u001b[0m\u001b[0m\n",
            "\u001b[0;31mNameError\u001b[0m: name 'iSARI' is not defined"
          ]
        }
      ]
    },
    {
      "cell_type": "code",
      "source": [
        "def contraseña1(A):\n",
        "  n=len(A)\n",
        "  B=[\"%\",\"$\",\"@\",\".\",1,2,3,4,5,6,7,8,9,0]\n",
        "  c=len(B)\n",
        "  for i in range(n):\n",
        "    contraseña2=i+(x in range(c))\n",
        "    print(contraseña2)\n",
        "\n",
        "contraseña1(A=[\"I\",\"s\",\"a\",\"r\",\"i\"])\n",
        "\n"
      ],
      "metadata": {
        "colab": {
          "base_uri": "https://localhost:8080/"
        },
        "id": "nRkL_cENRDPA",
        "outputId": "1ce71b9c-12ab-48b2-a8ff-cc5f3959ff2a"
      },
      "execution_count": 71,
      "outputs": [
        {
          "output_type": "stream",
          "name": "stdout",
          "text": [
            "0\n",
            "1\n",
            "2\n",
            "3\n",
            "4\n"
          ]
        }
      ]
    },
    {
      "cell_type": "code",
      "source": [
        "name=\"Isari\"\n",
        "carac=[\"#\",\"$\",\".\",\"&\",\"@\"]\n",
        "for letra in name:\n",
        "  for cara in carac:\n",
        "    print(letra+cara)\n",
        "\n",
        "\n"
      ],
      "metadata": {
        "colab": {
          "base_uri": "https://localhost:8080/"
        },
        "id": "NJaI_kGpTchY",
        "outputId": "8befb5f3-2319-4e11-de65-278670942f85"
      },
      "execution_count": 89,
      "outputs": [
        {
          "output_type": "stream",
          "name": "stdout",
          "text": [
            "I#\n",
            "I$\n",
            "I.\n",
            "I&\n",
            "I@\n",
            "s#\n",
            "s$\n",
            "s.\n",
            "s&\n",
            "s@\n",
            "a#\n",
            "a$\n",
            "a.\n",
            "a&\n",
            "a@\n",
            "r#\n",
            "r$\n",
            "r.\n",
            "r&\n",
            "r@\n",
            "i#\n",
            "i$\n",
            "i.\n",
            "i&\n",
            "i@\n"
          ]
        }
      ]
    },
    {
      "cell_type": "code",
      "source": [
        "x=\"Hola\"\n",
        "A=[[1,2,3],[4,5,6],[7,8,9]]\n",
        "print(A)\n",
        "B=[[1,2,3],[4,5,6],[7,8,9]]\n",
        "print(B)\n",
        "print(A[1][0])\n",
        "print(B[2][1])\n",
        "print(x)\n",
        "for j in range(len(A)):\n",
        "  print(A[0][j])\n",
        "print(x)\n",
        "for j in range(len(A)):\n",
        "  print(A[j][1])\n",
        "print(x)\n",
        "for i in range(len(A)):\n",
        "  for j in range(len(A)):\n",
        "    print(A[i][j])\n",
        "print(x)\n",
        "for i in range(len(A)):\n",
        "  for j in range(len(A)):\n",
        "    print(A[i][j]+B[i][j])\n",
        "print(x)\n",
        "for i in range(len(A)):\n",
        "  for j in range(len(A)):\n",
        "    print(A[i][j]*B[i][j])"
      ],
      "metadata": {
        "colab": {
          "base_uri": "https://localhost:8080/"
        },
        "id": "04U_eXDiUuV5",
        "outputId": "534f152d-edd4-4d68-d1d9-4c0650fc4f4c"
      },
      "execution_count": 102,
      "outputs": [
        {
          "output_type": "stream",
          "name": "stdout",
          "text": [
            "[[1, 2, 3], [4, 5, 6], [7, 8, 9]]\n",
            "[[1, 2, 3], [4, 5, 6], [7, 8, 9]]\n",
            "4\n",
            "8\n",
            "Hola\n",
            "1\n",
            "2\n",
            "3\n",
            "Hola\n",
            "2\n",
            "5\n",
            "8\n",
            "Hola\n",
            "1\n",
            "2\n",
            "3\n",
            "4\n",
            "5\n",
            "6\n",
            "7\n",
            "8\n",
            "9\n",
            "Hola\n",
            "2\n",
            "4\n",
            "6\n",
            "8\n",
            "10\n",
            "12\n",
            "14\n",
            "16\n",
            "18\n",
            "Hola\n",
            "1\n",
            "4\n",
            "9\n",
            "16\n",
            "25\n",
            "36\n",
            "49\n",
            "64\n",
            "81\n"
          ]
        }
      ]
    }
  ]
}