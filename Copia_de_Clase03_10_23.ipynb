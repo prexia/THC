{
  "nbformat": 4,
  "nbformat_minor": 0,
  "metadata": {
    "colab": {
      "provenance": [],
      "authorship_tag": "ABX9TyP3LmOirrmFNT9G/X54Xmq6",
      "include_colab_link": true
    },
    "kernelspec": {
      "name": "python3",
      "display_name": "Python 3"
    },
    "language_info": {
      "name": "python"
    }
  },
  "cells": [
    {
      "cell_type": "markdown",
      "metadata": {
        "id": "view-in-github",
        "colab_type": "text"
      },
      "source": [
        "<a href=\"https://colab.research.google.com/github/prexia/THC/blob/desarollo/Copia_de_Clase03_10_23.ipynb\" target=\"_parent\"><img src=\"https://colab.research.google.com/assets/colab-badge.svg\" alt=\"Open In Colab\"/></a>"
      ]
    },
    {
      "cell_type": "code",
      "execution_count": null,
      "metadata": {
        "colab": {
          "base_uri": "https://localhost:8080/"
        },
        "id": "rWLp8Mf-qigK",
        "outputId": "f0f58f0f-6c62-4ec5-c739-2b03de062128"
      },
      "outputs": [
        {
          "output_type": "stream",
          "name": "stdout",
          "text": [
            "apple\n",
            "banana\n"
          ]
        }
      ],
      "source": [
        "fruits = [\"apple\", \"banana\", \"cherry\"]\n",
        "for x in fruits:\n",
        "  print(x)\n",
        "  if x == \"banana\":\n",
        "    break"
      ]
    },
    {
      "cell_type": "markdown",
      "source": [
        "Bravo Moreno Santiago"
      ],
      "metadata": {
        "id": "o1Z9qgg_XpaI"
      }
    },
    {
      "cell_type": "code",
      "source": [
        "fruits = [\"apple\", \"banana\", \"cherry\"]\n",
        "for x in fruits:\n",
        "  if x == \"banana\":\n",
        "    continue\n",
        "  print(x)\n"
      ],
      "metadata": {
        "colab": {
          "base_uri": "https://localhost:8080/"
        },
        "id": "cHMAlethrS4u",
        "outputId": "21ad615a-b3fb-431e-b020-dddf5beb1959"
      },
      "execution_count": null,
      "outputs": [
        {
          "output_type": "stream",
          "name": "stdout",
          "text": [
            "apple\n",
            "cherry\n"
          ]
        }
      ]
    },
    {
      "cell_type": "code",
      "source": [
        "\n",
        "for x in range(1,11):\n",
        "    print(x)"
      ],
      "metadata": {
        "colab": {
          "base_uri": "https://localhost:8080/"
        },
        "id": "rDK_AheHr3FE",
        "outputId": "240f97dc-c659-48ea-d78d-0ef8e9ed594a"
      },
      "execution_count": null,
      "outputs": [
        {
          "output_type": "stream",
          "name": "stdout",
          "text": [
            "1\n",
            "2\n",
            "3\n",
            "4\n",
            "5\n",
            "6\n",
            "7\n",
            "8\n",
            "9\n",
            "10\n"
          ]
        }
      ]
    },
    {
      "cell_type": "code",
      "source": [
        "i=1\n",
        "while i<11:\n",
        "    print(i)\n",
        "    i=i+1\n"
      ],
      "metadata": {
        "colab": {
          "base_uri": "https://localhost:8080/"
        },
        "id": "SQGd7jW-sxTd",
        "outputId": "5855b6bd-a55b-4204-f61f-1c3746401f9f"
      },
      "execution_count": null,
      "outputs": [
        {
          "output_type": "stream",
          "name": "stdout",
          "text": [
            "1\n",
            "2\n",
            "3\n",
            "4\n",
            "5\n",
            "6\n",
            "7\n",
            "8\n",
            "9\n",
            "10\n"
          ]
        }
      ]
    },
    {
      "cell_type": "code",
      "source": [
        "i=1\n",
        "suma=0\n",
        "while i<51:\n",
        "  suma=suma+i\n",
        "  i=i+1\n",
        "print(suma)\n",
        "\n"
      ],
      "metadata": {
        "colab": {
          "base_uri": "https://localhost:8080/"
        },
        "id": "G_Ce7zZWtBEk",
        "outputId": "b6d62f79-195a-415f-856e-17b9725cdcdf"
      },
      "execution_count": null,
      "outputs": [
        {
          "output_type": "stream",
          "name": "stdout",
          "text": [
            "1275\n"
          ]
        }
      ]
    },
    {
      "cell_type": "code",
      "source": [
        "factorial=1;n=5\n",
        "for i in range(1,n+1):\n",
        "  factorial=factorial*i\n",
        "print(factorial)"
      ],
      "metadata": {
        "colab": {
          "base_uri": "https://localhost:8080/"
        },
        "id": "sTYvyXLDxYo2",
        "outputId": "d8f500a4-23b5-4f53-c76b-0664cdb8079a"
      },
      "execution_count": null,
      "outputs": [
        {
          "output_type": "stream",
          "name": "stdout",
          "text": [
            "120\n"
          ]
        }
      ]
    },
    {
      "cell_type": "code",
      "source": [
        "i=1\n",
        "factorial=1\n",
        "while i<6:\n",
        "  factorial=factorial*i\n",
        "  i=i+1\n",
        "print(factorial)"
      ],
      "metadata": {
        "colab": {
          "base_uri": "https://localhost:8080/"
        },
        "id": "vdaFBQE3zIF8",
        "outputId": "001678e3-dd7f-448d-8146-a73aab4db089"
      },
      "execution_count": null,
      "outputs": [
        {
          "output_type": "stream",
          "name": "stdout",
          "text": [
            "120\n"
          ]
        }
      ]
    },
    {
      "cell_type": "code",
      "source": [
        "\n",
        "for i in range (101):\n",
        "  if i%2==0:\n",
        "    print(i)\n"
      ],
      "metadata": {
        "colab": {
          "base_uri": "https://localhost:8080/"
        },
        "id": "tXCP90881IxT",
        "outputId": "55cc41c3-7ae4-4f88-924b-c6e870d675f4"
      },
      "execution_count": null,
      "outputs": [
        {
          "output_type": "stream",
          "name": "stdout",
          "text": [
            "0\n",
            "2\n",
            "4\n",
            "6\n",
            "8\n",
            "10\n",
            "12\n",
            "14\n",
            "16\n",
            "18\n",
            "20\n",
            "22\n",
            "24\n",
            "26\n",
            "28\n",
            "30\n",
            "32\n",
            "34\n",
            "36\n",
            "38\n",
            "40\n",
            "42\n",
            "44\n",
            "46\n",
            "48\n",
            "50\n",
            "52\n",
            "54\n",
            "56\n",
            "58\n",
            "60\n",
            "62\n",
            "64\n",
            "66\n",
            "68\n",
            "70\n",
            "72\n",
            "74\n",
            "76\n",
            "78\n",
            "80\n",
            "82\n",
            "84\n",
            "86\n",
            "88\n",
            "90\n",
            "92\n",
            "94\n",
            "96\n",
            "98\n",
            "100\n"
          ]
        }
      ]
    },
    {
      "cell_type": "code",
      "source": [
        "frutas=[\"manzana\", \"pera\", \"naranja\", \"kiwi\" ]\n",
        "for fruta in frutas:\n",
        "    print(fruta)"
      ],
      "metadata": {
        "colab": {
          "base_uri": "https://localhost:8080/"
        },
        "id": "w0-RbBwd5k2M",
        "outputId": "c0e12689-e84a-4df6-9af7-5df99fd2ebed"
      },
      "execution_count": null,
      "outputs": [
        {
          "output_type": "stream",
          "name": "stdout",
          "text": [
            "manzana\n",
            "pera\n",
            "naranja\n",
            "kiwi\n"
          ]
        }
      ]
    },
    {
      "cell_type": "code",
      "source": [
        "if \"manzana\" in frutas:\n",
        "    print(\"Sí, la manzana está en la lista\")"
      ],
      "metadata": {
        "colab": {
          "base_uri": "https://localhost:8080/"
        },
        "id": "3je97NOR53sj",
        "outputId": "e24ba6db-e0d3-4e54-9813-80c4f6f60711"
      },
      "execution_count": null,
      "outputs": [
        {
          "output_type": "stream",
          "name": "stdout",
          "text": [
            "Sí, la manzana está en la lista\n"
          ]
        }
      ]
    },
    {
      "cell_type": "code",
      "source": [
        "if \"guayaba\" in frutas:\n",
        "    print(\"Sí, la manzana está en la lista\")\n",
        "else:\n",
        "    print(\"No esta en la lista\")"
      ],
      "metadata": {
        "colab": {
          "base_uri": "https://localhost:8080/"
        },
        "id": "lNB_N-KF6A1B",
        "outputId": "e578e391-c129-4269-d80e-b51d4ed2278d"
      },
      "execution_count": null,
      "outputs": [
        {
          "output_type": "stream",
          "name": "stdout",
          "text": [
            "No esta en la lista\n"
          ]
        }
      ]
    },
    {
      "cell_type": "code",
      "source": [
        "lista=[1,2,3,4,5,6,7,8,9,10]\n",
        "suma=0\n",
        "for numero in lista:\n",
        "  suma=numero+suma\n",
        "print(suma)\n"
      ],
      "metadata": {
        "colab": {
          "base_uri": "https://localhost:8080/"
        },
        "id": "Cu4VPrLL7Kaz",
        "outputId": "26ff0c8c-aaa1-4051-864e-049128babf4e"
      },
      "execution_count": null,
      "outputs": [
        {
          "output_type": "stream",
          "name": "stdout",
          "text": [
            "55\n"
          ]
        }
      ]
    }
  ]
}